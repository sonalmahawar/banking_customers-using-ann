{
  "nbformat": 4,
  "nbformat_minor": 0,
  "metadata": {
    "colab": {
      "name": "Banking_customers.ipynb",
      "provenance": [],
      "collapsed_sections": [],
      "mount_file_id": "1FDIVQ7vOudGPZc2amjsr_A6hp2DZq99e",
      "authorship_tag": "ABX9TyMwjNOfE/klbdEJPBOdpEKs",
      "include_colab_link": true
    },
    "kernelspec": {
      "name": "python3",
      "display_name": "Python 3"
    },
    "language_info": {
      "name": "python"
    }
  },
  "cells": [
    {
      "cell_type": "markdown",
      "metadata": {
        "id": "view-in-github",
        "colab_type": "text"
      },
      "source": [
        "<a href=\"https://colab.research.google.com/github/sonalmahawar/banking_customers-using-ann/blob/main/Banking_customers.ipynb\" target=\"_parent\"><img src=\"https://colab.research.google.com/assets/colab-badge.svg\" alt=\"Open In Colab\"/></a>"
      ]
    },
    {
      "cell_type": "markdown",
      "metadata": {
        "id": "mtWX3y0kUIE5"
      },
      "source": [
        "**Artificial Neural Network**"
      ]
    },
    {
      "cell_type": "markdown",
      "metadata": {
        "id": "deFcUq8DUWuK"
      },
      "source": [
        " Importing the libaries"
      ]
    },
    {
      "cell_type": "code",
      "metadata": {
        "id": "Q7opNCYYUONz"
      },
      "source": [
        "import numpy as np\n",
        "import pandas as pd\n",
        "import tensorflow as tf\n",
        "from sklearn.preprocessing import LabelEncoder\n",
        "from sklearn.compose import ColumnTransformer\n",
        "from sklearn.preprocessing import OneHotEncoder\n",
        "from sklearn.model_selection import train_test_split\n",
        "from sklearn.preprocessing import StandardScaler\n",
        "from sklearn.metrics import confusion_matrix, accuracy_score"
      ],
      "execution_count": null,
      "outputs": []
    },
    {
      "cell_type": "markdown",
      "metadata": {
        "id": "nZvqDpizcikj"
      },
      "source": [
        "Part 1 Importing the dataset"
      ]
    },
    {
      "cell_type": "code",
      "metadata": {
        "colab": {
          "base_uri": "https://localhost:8080/"
        },
        "id": "omfj8HHbQ-gK",
        "outputId": "26797af7-174a-4672-dcc9-d2d505b0faf1"
      },
      "source": [
        "from google.colab import drive\n",
        "drive.mount('/content/drive')"
      ],
      "execution_count": null,
      "outputs": [
        {
          "output_type": "stream",
          "text": [
            "Drive already mounted at /content/drive; to attempt to forcibly remount, call drive.mount(\"/content/drive\", force_remount=True).\n"
          ],
          "name": "stdout"
        }
      ]
    },
    {
      "cell_type": "code",
      "metadata": {
        "id": "fS_woBe6UkvV"
      },
      "source": [
        "dataset = pd.read_csv(\"/content/drive/MyDrive/Churn_Modelling.csv\")\n",
        "x = dataset.iloc[:,3:-1].values\n",
        "y = dataset.iloc[:,-1].values"
      ],
      "execution_count": null,
      "outputs": []
    },
    {
      "cell_type": "markdown",
      "metadata": {
        "id": "-DlNc5oEwbqg"
      },
      "source": [
        "Preprocessing the dataset"
      ]
    },
    {
      "cell_type": "code",
      "metadata": {
        "id": "HG385Mzy0zdZ",
        "colab": {
          "base_uri": "https://localhost:8080/"
        },
        "outputId": "54b0269d-d380-413b-db38-b3a4a2c22bdf"
      },
      "source": [
        "print(x)"
      ],
      "execution_count": null,
      "outputs": [
        {
          "output_type": "stream",
          "text": [
            "[[1.0 0.0 0.0 ... 1 1 101348.88]\n",
            " [0.0 0.0 1.0 ... 0 1 112542.58]\n",
            " [1.0 0.0 0.0 ... 1 0 113931.57]\n",
            " ...\n",
            " [1.0 0.0 0.0 ... 0 1 42085.58]\n",
            " [0.0 1.0 0.0 ... 1 0 92888.52]\n",
            " [1.0 0.0 0.0 ... 1 0 38190.78]]\n"
          ],
          "name": "stdout"
        }
      ]
    },
    {
      "cell_type": "code",
      "metadata": {
        "colab": {
          "base_uri": "https://localhost:8080/"
        },
        "id": "1LDK06GZe2zY",
        "outputId": "e7a394d3-389d-4713-ad90-46480d07e3a3"
      },
      "source": [
        "print(y)"
      ],
      "execution_count": null,
      "outputs": [
        {
          "output_type": "stream",
          "text": [
            "[1 0 1 ... 1 1 0]\n"
          ],
          "name": "stdout"
        }
      ]
    },
    {
      "cell_type": "markdown",
      "metadata": {
        "id": "yq9UctlafFYz"
      },
      "source": [
        "Encoding categorical data\n"
      ]
    },
    {
      "cell_type": "code",
      "metadata": {
        "id": "t4fl7zvDe9Ch"
      },
      "source": [
        "le = LabelEncoder()\n",
        "x[:, 2] = le.fit_transform(x[:, 2]) "
      ],
      "execution_count": null,
      "outputs": []
    },
    {
      "cell_type": "code",
      "metadata": {
        "colab": {
          "base_uri": "https://localhost:8080/"
        },
        "id": "zdKFNdwrgEyV",
        "outputId": "9b454e0b-c879-4bf9-edc9-91732190d9a2"
      },
      "source": [
        "print(x)"
      ],
      "execution_count": null,
      "outputs": [
        {
          "output_type": "stream",
          "text": [
            "[[1.0 0.0 0 ... 1 1 101348.88]\n",
            " [0.0 0.0 1 ... 0 1 112542.58]\n",
            " [1.0 0.0 0 ... 1 0 113931.57]\n",
            " ...\n",
            " [1.0 0.0 0 ... 0 1 42085.58]\n",
            " [0.0 1.0 0 ... 1 0 92888.52]\n",
            " [1.0 0.0 0 ... 1 0 38190.78]]\n"
          ],
          "name": "stdout"
        }
      ]
    },
    {
      "cell_type": "code",
      "metadata": {
        "id": "DzNgyK3UgT4q"
      },
      "source": [
        "ct = ColumnTransformer(transformers = [('encoder', OneHotEncoder(),[1])], remainder = 'passthrough')\n",
        "x = np.array(ct.fit_transform(x))"
      ],
      "execution_count": null,
      "outputs": []
    },
    {
      "cell_type": "code",
      "metadata": {
        "colab": {
          "base_uri": "https://localhost:8080/"
        },
        "id": "t3OXf2Rbv-le",
        "outputId": "f6d7fea2-1143-487b-ed58-fc6c2ce1555f"
      },
      "source": [
        "print(x)"
      ],
      "execution_count": null,
      "outputs": [
        {
          "output_type": "stream",
          "text": [
            "[[1.0 0.0 1.0 ... 1 1 101348.88]\n",
            " [1.0 0.0 0.0 ... 0 1 112542.58]\n",
            " [1.0 0.0 1.0 ... 1 0 113931.57]\n",
            " ...\n",
            " [1.0 0.0 1.0 ... 0 1 42085.58]\n",
            " [0.0 1.0 0.0 ... 1 0 92888.52]\n",
            " [1.0 0.0 1.0 ... 1 0 38190.78]]\n"
          ],
          "name": "stdout"
        }
      ]
    },
    {
      "cell_type": "markdown",
      "metadata": {
        "id": "g3K6uXVkwf7t"
      },
      "source": [
        "Splitting into testing and training"
      ]
    },
    {
      "cell_type": "code",
      "metadata": {
        "id": "2cfD0B-dwLgi"
      },
      "source": [
        "x_train,x_test,y_train,y_test = train_test_split(x,y, test_size = 0.2, random_state = 0)"
      ],
      "execution_count": null,
      "outputs": []
    },
    {
      "cell_type": "markdown",
      "metadata": {
        "id": "05J7vRxvxezb"
      },
      "source": [
        "Feature Scaling"
      ]
    },
    {
      "cell_type": "code",
      "metadata": {
        "id": "aMUyXT0qxCf8"
      },
      "source": [
        "sc = StandardScaler()"
      ],
      "execution_count": null,
      "outputs": []
    },
    {
      "cell_type": "code",
      "metadata": {
        "id": "pa0fI4nixkBQ"
      },
      "source": [
        "x_train = sc.fit_transform(x_train)\n",
        "x_test = sc.fit_transform(x_test)"
      ],
      "execution_count": null,
      "outputs": []
    },
    {
      "cell_type": "markdown",
      "metadata": {
        "id": "i8HTAuwpBzf0"
      },
      "source": [
        "Part 2 Building the ANN"
      ]
    },
    {
      "cell_type": "markdown",
      "metadata": {
        "id": "jbJI6igQB7EK"
      },
      "source": [
        "Initialize the ANN"
      ]
    },
    {
      "cell_type": "code",
      "metadata": {
        "id": "UsuWYjc4BC7n"
      },
      "source": [
        "ann = tf.keras.models.Sequential()\n"
      ],
      "execution_count": null,
      "outputs": []
    },
    {
      "cell_type": "markdown",
      "metadata": {
        "id": "AncO6lXpFTfV"
      },
      "source": [
        "Adding the  input layer and the first hidden layer"
      ]
    },
    {
      "cell_type": "code",
      "metadata": {
        "id": "26u1ir0hFcfF"
      },
      "source": [
        "ann.add(tf.keras.layers.Dense(units = 6, activation= 'relu'))"
      ],
      "execution_count": null,
      "outputs": []
    },
    {
      "cell_type": "markdown",
      "metadata": {
        "id": "-5prGeaKIlqd"
      },
      "source": [
        "Adding the second hidden layer\n"
      ]
    },
    {
      "cell_type": "code",
      "metadata": {
        "id": "1Ro-ocbyIgsl"
      },
      "source": [
        "ann.add(tf.keras.layers.Dense(units = 6, activation= 'relu'))"
      ],
      "execution_count": null,
      "outputs": []
    },
    {
      "cell_type": "markdown",
      "metadata": {
        "id": "210BK7vZI1uC"
      },
      "source": [
        "Adding the output layer"
      ]
    },
    {
      "cell_type": "code",
      "metadata": {
        "id": "RPJaBb-SIsex"
      },
      "source": [
        "ann.add(tf.keras.layers.Dense(units = 1, activation= 'sigmoid'))"
      ],
      "execution_count": null,
      "outputs": []
    },
    {
      "cell_type": "markdown",
      "metadata": {
        "id": "n-mM3TUUKJ4t"
      },
      "source": [
        "PART3 Training the ANN"
      ]
    },
    {
      "cell_type": "markdown",
      "metadata": {
        "id": "FNc-9zOvKOe8"
      },
      "source": [
        "Compiling the ANN"
      ]
    },
    {
      "cell_type": "code",
      "metadata": {
        "id": "yXKl578QJWJz"
      },
      "source": [
        "ann.compile(optimizer = 'adam',loss = 'binary_crossentropy' , metrics = ['accuracy'])"
      ],
      "execution_count": null,
      "outputs": []
    },
    {
      "cell_type": "markdown",
      "metadata": {
        "id": "mHB7jjJ8LV8d"
      },
      "source": [
        "Training the ANN on training set"
      ]
    },
    {
      "cell_type": "code",
      "metadata": {
        "colab": {
          "base_uri": "https://localhost:8080/"
        },
        "id": "LVI37QheLO1e",
        "outputId": "b879cf0b-93c1-48b5-83be-cd44863e17d9"
      },
      "source": [
        "ann.fit(x_train, y_train, batch_size = 28, epochs = 100 )"
      ],
      "execution_count": null,
      "outputs": [
        {
          "output_type": "stream",
          "text": [
            "Epoch 1/100\n",
            "286/286 [==============================] - 0s 1ms/step - loss: 0.3472 - accuracy: 0.8575\n",
            "Epoch 2/100\n",
            "286/286 [==============================] - 0s 1ms/step - loss: 0.3462 - accuracy: 0.8571\n",
            "Epoch 3/100\n",
            "286/286 [==============================] - 0s 1ms/step - loss: 0.3460 - accuracy: 0.8575\n",
            "Epoch 4/100\n",
            "286/286 [==============================] - 0s 1ms/step - loss: 0.3458 - accuracy: 0.8581\n",
            "Epoch 5/100\n",
            "286/286 [==============================] - 0s 1ms/step - loss: 0.3453 - accuracy: 0.8589\n",
            "Epoch 6/100\n",
            "286/286 [==============================] - 0s 1ms/step - loss: 0.3445 - accuracy: 0.8586\n",
            "Epoch 7/100\n",
            "286/286 [==============================] - 0s 1ms/step - loss: 0.3443 - accuracy: 0.8585\n",
            "Epoch 8/100\n",
            "286/286 [==============================] - 0s 1ms/step - loss: 0.3440 - accuracy: 0.8591\n",
            "Epoch 9/100\n",
            "286/286 [==============================] - 0s 1ms/step - loss: 0.3437 - accuracy: 0.8606\n",
            "Epoch 10/100\n",
            "286/286 [==============================] - 0s 1ms/step - loss: 0.3431 - accuracy: 0.8597\n",
            "Epoch 11/100\n",
            "286/286 [==============================] - 0s 1ms/step - loss: 0.3430 - accuracy: 0.8608\n",
            "Epoch 12/100\n",
            "286/286 [==============================] - 0s 1ms/step - loss: 0.3425 - accuracy: 0.8601\n",
            "Epoch 13/100\n",
            "286/286 [==============================] - 0s 1ms/step - loss: 0.3424 - accuracy: 0.8615\n",
            "Epoch 14/100\n",
            "286/286 [==============================] - 0s 1ms/step - loss: 0.3417 - accuracy: 0.8610\n",
            "Epoch 15/100\n",
            "286/286 [==============================] - 0s 1ms/step - loss: 0.3416 - accuracy: 0.8601\n",
            "Epoch 16/100\n",
            "286/286 [==============================] - 0s 1ms/step - loss: 0.3413 - accuracy: 0.8605\n",
            "Epoch 17/100\n",
            "286/286 [==============================] - 0s 2ms/step - loss: 0.3409 - accuracy: 0.8616\n",
            "Epoch 18/100\n",
            "286/286 [==============================] - 0s 1ms/step - loss: 0.3409 - accuracy: 0.8591\n",
            "Epoch 19/100\n",
            "286/286 [==============================] - 0s 1ms/step - loss: 0.3409 - accuracy: 0.8608\n",
            "Epoch 20/100\n",
            "286/286 [==============================] - 0s 1ms/step - loss: 0.3405 - accuracy: 0.8610\n",
            "Epoch 21/100\n",
            "286/286 [==============================] - 0s 1ms/step - loss: 0.3402 - accuracy: 0.8610\n",
            "Epoch 22/100\n",
            "286/286 [==============================] - 0s 1ms/step - loss: 0.3404 - accuracy: 0.8606\n",
            "Epoch 23/100\n",
            "286/286 [==============================] - 0s 1ms/step - loss: 0.3402 - accuracy: 0.8615\n",
            "Epoch 24/100\n",
            "286/286 [==============================] - 0s 1ms/step - loss: 0.3396 - accuracy: 0.8595\n",
            "Epoch 25/100\n",
            "286/286 [==============================] - 0s 1ms/step - loss: 0.3399 - accuracy: 0.8614\n",
            "Epoch 26/100\n",
            "286/286 [==============================] - 0s 1ms/step - loss: 0.3391 - accuracy: 0.8625\n",
            "Epoch 27/100\n",
            "286/286 [==============================] - 0s 1ms/step - loss: 0.3393 - accuracy: 0.8612\n",
            "Epoch 28/100\n",
            "286/286 [==============================] - 0s 1ms/step - loss: 0.3391 - accuracy: 0.8625\n",
            "Epoch 29/100\n",
            "286/286 [==============================] - 0s 1ms/step - loss: 0.3394 - accuracy: 0.8626\n",
            "Epoch 30/100\n",
            "286/286 [==============================] - 0s 1ms/step - loss: 0.3386 - accuracy: 0.8601\n",
            "Epoch 31/100\n",
            "286/286 [==============================] - 0s 1ms/step - loss: 0.3387 - accuracy: 0.8629\n",
            "Epoch 32/100\n",
            "286/286 [==============================] - 0s 1ms/step - loss: 0.3383 - accuracy: 0.8616\n",
            "Epoch 33/100\n",
            "286/286 [==============================] - 0s 1ms/step - loss: 0.3384 - accuracy: 0.8618\n",
            "Epoch 34/100\n",
            "286/286 [==============================] - 0s 1ms/step - loss: 0.3382 - accuracy: 0.8622\n",
            "Epoch 35/100\n",
            "286/286 [==============================] - 0s 1ms/step - loss: 0.3380 - accuracy: 0.8621\n",
            "Epoch 36/100\n",
            "286/286 [==============================] - 0s 1ms/step - loss: 0.3382 - accuracy: 0.8616\n",
            "Epoch 37/100\n",
            "286/286 [==============================] - 0s 1ms/step - loss: 0.3374 - accuracy: 0.8636\n",
            "Epoch 38/100\n",
            "286/286 [==============================] - 0s 1ms/step - loss: 0.3376 - accuracy: 0.8635\n",
            "Epoch 39/100\n",
            "286/286 [==============================] - 0s 1ms/step - loss: 0.3372 - accuracy: 0.8621\n",
            "Epoch 40/100\n",
            "286/286 [==============================] - 0s 1ms/step - loss: 0.3373 - accuracy: 0.8639\n",
            "Epoch 41/100\n",
            "286/286 [==============================] - 0s 1ms/step - loss: 0.3370 - accuracy: 0.8639\n",
            "Epoch 42/100\n",
            "286/286 [==============================] - 0s 1ms/step - loss: 0.3368 - accuracy: 0.8605\n",
            "Epoch 43/100\n",
            "286/286 [==============================] - 0s 1ms/step - loss: 0.3373 - accuracy: 0.8620\n",
            "Epoch 44/100\n",
            "286/286 [==============================] - 0s 1ms/step - loss: 0.3361 - accuracy: 0.8627\n",
            "Epoch 45/100\n",
            "286/286 [==============================] - 0s 1ms/step - loss: 0.3366 - accuracy: 0.8614\n",
            "Epoch 46/100\n",
            "286/286 [==============================] - 0s 1ms/step - loss: 0.3369 - accuracy: 0.8626\n",
            "Epoch 47/100\n",
            "286/286 [==============================] - 0s 1ms/step - loss: 0.3364 - accuracy: 0.8645\n",
            "Epoch 48/100\n",
            "286/286 [==============================] - 0s 1ms/step - loss: 0.3364 - accuracy: 0.8637\n",
            "Epoch 49/100\n",
            "286/286 [==============================] - 0s 1ms/step - loss: 0.3363 - accuracy: 0.8631\n",
            "Epoch 50/100\n",
            "286/286 [==============================] - 0s 1ms/step - loss: 0.3362 - accuracy: 0.8643\n",
            "Epoch 51/100\n",
            "286/286 [==============================] - 0s 1ms/step - loss: 0.3362 - accuracy: 0.8643\n",
            "Epoch 52/100\n",
            "286/286 [==============================] - 0s 1ms/step - loss: 0.3363 - accuracy: 0.8622\n",
            "Epoch 53/100\n",
            "286/286 [==============================] - 0s 2ms/step - loss: 0.3359 - accuracy: 0.8640\n",
            "Epoch 54/100\n",
            "286/286 [==============================] - 0s 1ms/step - loss: 0.3355 - accuracy: 0.8629\n",
            "Epoch 55/100\n",
            "286/286 [==============================] - 0s 1ms/step - loss: 0.3359 - accuracy: 0.8630\n",
            "Epoch 56/100\n",
            "286/286 [==============================] - 0s 1ms/step - loss: 0.3356 - accuracy: 0.8625\n",
            "Epoch 57/100\n",
            "286/286 [==============================] - 0s 2ms/step - loss: 0.3354 - accuracy: 0.8631\n",
            "Epoch 58/100\n",
            "286/286 [==============================] - 0s 1ms/step - loss: 0.3358 - accuracy: 0.8643\n",
            "Epoch 59/100\n",
            "286/286 [==============================] - 0s 1ms/step - loss: 0.3355 - accuracy: 0.8634\n",
            "Epoch 60/100\n",
            "286/286 [==============================] - 0s 1ms/step - loss: 0.3351 - accuracy: 0.8648\n",
            "Epoch 61/100\n",
            "286/286 [==============================] - 0s 1ms/step - loss: 0.3352 - accuracy: 0.8648\n",
            "Epoch 62/100\n",
            "286/286 [==============================] - 0s 1ms/step - loss: 0.3351 - accuracy: 0.8626\n",
            "Epoch 63/100\n",
            "286/286 [==============================] - 0s 1ms/step - loss: 0.3346 - accuracy: 0.8630\n",
            "Epoch 64/100\n",
            "286/286 [==============================] - 0s 1ms/step - loss: 0.3347 - accuracy: 0.8625\n",
            "Epoch 65/100\n",
            "286/286 [==============================] - 0s 2ms/step - loss: 0.3349 - accuracy: 0.8631\n",
            "Epoch 66/100\n",
            "286/286 [==============================] - 0s 1ms/step - loss: 0.3348 - accuracy: 0.8634\n",
            "Epoch 67/100\n",
            "286/286 [==============================] - 0s 2ms/step - loss: 0.3348 - accuracy: 0.8631\n",
            "Epoch 68/100\n",
            "286/286 [==============================] - 0s 2ms/step - loss: 0.3346 - accuracy: 0.8634\n",
            "Epoch 69/100\n",
            "286/286 [==============================] - 0s 1ms/step - loss: 0.3345 - accuracy: 0.8639\n",
            "Epoch 70/100\n",
            "286/286 [==============================] - 0s 1ms/step - loss: 0.3343 - accuracy: 0.8640\n",
            "Epoch 71/100\n",
            "286/286 [==============================] - 0s 1ms/step - loss: 0.3338 - accuracy: 0.8621\n",
            "Epoch 72/100\n",
            "286/286 [==============================] - 0s 1ms/step - loss: 0.3341 - accuracy: 0.8629\n",
            "Epoch 73/100\n",
            "286/286 [==============================] - 0s 1ms/step - loss: 0.3342 - accuracy: 0.8635\n",
            "Epoch 74/100\n",
            "286/286 [==============================] - 0s 1ms/step - loss: 0.3340 - accuracy: 0.8645\n",
            "Epoch 75/100\n",
            "286/286 [==============================] - 0s 1ms/step - loss: 0.3341 - accuracy: 0.8645\n",
            "Epoch 76/100\n",
            "286/286 [==============================] - 0s 1ms/step - loss: 0.3339 - accuracy: 0.8629\n",
            "Epoch 77/100\n",
            "286/286 [==============================] - 0s 1ms/step - loss: 0.3341 - accuracy: 0.8646\n",
            "Epoch 78/100\n",
            "286/286 [==============================] - 0s 1ms/step - loss: 0.3336 - accuracy: 0.8633\n",
            "Epoch 79/100\n",
            "286/286 [==============================] - 0s 1ms/step - loss: 0.3336 - accuracy: 0.8644\n",
            "Epoch 80/100\n",
            "286/286 [==============================] - 0s 1ms/step - loss: 0.3337 - accuracy: 0.8650\n",
            "Epoch 81/100\n",
            "286/286 [==============================] - 0s 1ms/step - loss: 0.3335 - accuracy: 0.8636\n",
            "Epoch 82/100\n",
            "286/286 [==============================] - 0s 1ms/step - loss: 0.3337 - accuracy: 0.8649\n",
            "Epoch 83/100\n",
            "286/286 [==============================] - 0s 1ms/step - loss: 0.3332 - accuracy: 0.8643\n",
            "Epoch 84/100\n",
            "286/286 [==============================] - 0s 1ms/step - loss: 0.3340 - accuracy: 0.8648\n",
            "Epoch 85/100\n",
            "286/286 [==============================] - 0s 1ms/step - loss: 0.3336 - accuracy: 0.8641\n",
            "Epoch 86/100\n",
            "286/286 [==============================] - 0s 1ms/step - loss: 0.3332 - accuracy: 0.8644\n",
            "Epoch 87/100\n",
            "286/286 [==============================] - 0s 1ms/step - loss: 0.3332 - accuracy: 0.8644\n",
            "Epoch 88/100\n",
            "286/286 [==============================] - 0s 1ms/step - loss: 0.3336 - accuracy: 0.8636\n",
            "Epoch 89/100\n",
            "286/286 [==============================] - 0s 2ms/step - loss: 0.3337 - accuracy: 0.8649\n",
            "Epoch 90/100\n",
            "286/286 [==============================] - 0s 1ms/step - loss: 0.3334 - accuracy: 0.8639\n",
            "Epoch 91/100\n",
            "286/286 [==============================] - 0s 1ms/step - loss: 0.3329 - accuracy: 0.8643\n",
            "Epoch 92/100\n",
            "286/286 [==============================] - 0s 2ms/step - loss: 0.3332 - accuracy: 0.8659\n",
            "Epoch 93/100\n",
            "286/286 [==============================] - 0s 1ms/step - loss: 0.3329 - accuracy: 0.8645\n",
            "Epoch 94/100\n",
            "286/286 [==============================] - 0s 1ms/step - loss: 0.3333 - accuracy: 0.8644\n",
            "Epoch 95/100\n",
            "286/286 [==============================] - 0s 1ms/step - loss: 0.3330 - accuracy: 0.8650\n",
            "Epoch 96/100\n",
            "286/286 [==============================] - 0s 1ms/step - loss: 0.3332 - accuracy: 0.8654\n",
            "Epoch 97/100\n",
            "286/286 [==============================] - 0s 2ms/step - loss: 0.3327 - accuracy: 0.8640\n",
            "Epoch 98/100\n",
            "286/286 [==============================] - 0s 1ms/step - loss: 0.3328 - accuracy: 0.8639\n",
            "Epoch 99/100\n",
            "286/286 [==============================] - 0s 1ms/step - loss: 0.3330 - accuracy: 0.8635\n",
            "Epoch 100/100\n",
            "286/286 [==============================] - 0s 1ms/step - loss: 0.3330 - accuracy: 0.8643\n"
          ],
          "name": "stdout"
        },
        {
          "output_type": "execute_result",
          "data": {
            "text/plain": [
              "<tensorflow.python.keras.callbacks.History at 0x7f4c0655c150>"
            ]
          },
          "metadata": {
            "tags": []
          },
          "execution_count": 68
        }
      ]
    },
    {
      "cell_type": "markdown",
      "metadata": {
        "id": "LuBH4paZSkrT"
      },
      "source": [
        "Part 4 - Making the predictions and evaluating the model"
      ]
    },
    {
      "cell_type": "markdown",
      "metadata": {
        "id": "V2xkNI_PTWEa"
      },
      "source": [
        "Predicting the Test set results"
      ]
    },
    {
      "cell_type": "code",
      "metadata": {
        "id": "MTn9RRWHLvX5",
        "colab": {
          "base_uri": "https://localhost:8080/"
        },
        "outputId": "97129f78-c231-46da-cb41-f96688b8066b"
      },
      "source": [
        "y_pred = ann.predict(x_test)\n",
        "y_pred = (y_pred >0.5)\n",
        "print(np.concatenate((y_pred.reshape(len(y_pred),1), y_test.reshape(len(y_test),1)),1))"
      ],
      "execution_count": null,
      "outputs": [
        {
          "output_type": "stream",
          "text": [
            "[[0 0]\n",
            " [0 1]\n",
            " [0 0]\n",
            " ...\n",
            " [0 0]\n",
            " [0 0]\n",
            " [0 0]]\n"
          ],
          "name": "stdout"
        }
      ]
    },
    {
      "cell_type": "markdown",
      "metadata": {
        "id": "5ho8kakIUFjL"
      },
      "source": [
        "Making the Confusion Matrix"
      ]
    },
    {
      "cell_type": "code",
      "metadata": {
        "colab": {
          "base_uri": "https://localhost:8080/"
        },
        "id": "UEr-DpopT6aP",
        "outputId": "d9a4b3eb-2b4e-4188-861b-fd7083679466"
      },
      "source": [
        "cm = confusion_matrix(y_test, y_pred)\n",
        "print(cm)\n",
        "accuracy_score(y_test, y_pred)"
      ],
      "execution_count": null,
      "outputs": [
        {
          "output_type": "stream",
          "text": [
            "[[1533   62]\n",
            " [ 205  200]]\n"
          ],
          "name": "stdout"
        },
        {
          "output_type": "execute_result",
          "data": {
            "text/plain": [
              "0.8665"
            ]
          },
          "metadata": {
            "tags": []
          },
          "execution_count": 71
        }
      ]
    },
    {
      "cell_type": "code",
      "metadata": {
        "id": "FI1m7HknUPFP"
      },
      "source": [
        ""
      ],
      "execution_count": null,
      "outputs": []
    }
  ]
}